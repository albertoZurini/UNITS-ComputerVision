{
 "cells": [
  {
   "cell_type": "code",
   "execution_count": 1,
   "metadata": {},
   "outputs": [],
   "source": [
    "import os\n",
    "import cv2\n",
    "from tqdm import tqdm"
   ]
  },
  {
   "cell_type": "code",
   "execution_count": 3,
   "metadata": {},
   "outputs": [
    {
     "name": "stdout",
     "output_type": "stream",
     "text": [
      "back  green  red  yellow\n"
     ]
    }
   ],
   "source": [
    "!ls dataset_raw/train"
   ]
  },
  {
   "cell_type": "code",
   "execution_count": 5,
   "metadata": {},
   "outputs": [
    {
     "name": "stderr",
     "output_type": "stream",
     "text": [
      "100%|██████████| 100/100 [00:00<00:00, 2105.63it/s]\n",
      "100%|██████████| 100/100 [00:00<00:00, 3023.49it/s]\n",
      "100%|██████████| 100/100 [00:00<00:00, 3114.32it/s]\n",
      "100%|██████████| 83/83 [00:00<00:00, 4167.34it/s]\n",
      "100%|██████████| 559/559 [00:00<00:00, 2979.21it/s]\n",
      "100%|██████████| 564/564 [00:00<00:00, 2464.91it/s]\n",
      "100%|██████████| 517/517 [00:00<00:00, 2598.67it/s]\n",
      "100%|██████████| 503/503 [00:00<00:00, 3456.93it/s]\n"
     ]
    }
   ],
   "source": [
    "PATH = \"./dataset_raw\"\n",
    "OUTP = \"./dataset\"\n",
    "\n",
    "for dataset in os.listdir(PATH):\n",
    "    color_path_out = os.path.join(OUTP, dataset)\n",
    "    if not os.path.exists(color_path_out):\n",
    "            os.mkdir(color_path_out)\n",
    "\n",
    "    for color in os.listdir(os.path.join(PATH, dataset)):\n",
    "        out_path = os.path.join(OUTP, dataset, color)\n",
    "        if not os.path.exists(out_path):\n",
    "            os.mkdir(out_path)\n",
    "\n",
    "        for file in tqdm(os.listdir(os.path.join(PATH, dataset, color))):\n",
    "            input_file_path = os.path.join(PATH, dataset, color, file)\n",
    "            output_file_path = os.path.join(OUTP, dataset, color, file)\n",
    "\n",
    "            img = cv2.imread(input_file_path)\n",
    "            img_new = cv2.resize(img, (64, 64))\n",
    "\n",
    "            cv2.imwrite(output_file_path, img_new)"
   ]
  }
 ],
 "metadata": {
  "kernelspec": {
   "display_name": "unsupervised",
   "language": "python",
   "name": "python3"
  },
  "language_info": {
   "codemirror_mode": {
    "name": "ipython",
    "version": 3
   },
   "file_extension": ".py",
   "mimetype": "text/x-python",
   "name": "python",
   "nbconvert_exporter": "python",
   "pygments_lexer": "ipython3",
   "version": "-1.-1.-1"
  }
 },
 "nbformat": 4,
 "nbformat_minor": 2
}
